{
 "cells": [
  {
   "cell_type": "code",
   "execution_count": null,
   "source": [
    "import pandas as pd\r\n",
    "import requests\r\n",
    "import io\r\n",
    "\r\n",
    "#Downloading the file from GitHub account\r\n",
    "url = \"https://github.com/jasonmorkel/tuna_abundance_bazaruto/blob/main/tuna_abundance.xlsx\" # Make sure the url is the raw version of the file on GitHub\r\n",
    "download = requests.get(url).content\r\n",
    "\r\n",
    "df = pd.read_excel(r'C:\\Users\\jackr\\OneDrive - University of Southampton\\Documents\\Marine bio\\BCSS\\GitHub\\tuna_abundance_bazaruto\\tuna_abundance.xlsx')\r\n",
    "print (df)\r\n",
    "\r\n",
    "occur = df.groupby('Common Name').size()\r\n",
    "print(occur)\r\n",
    "\r\n",
    "by_date = df['Date'].groupby([df.Date.dt.year.rename('year'), df.Date.dt.month.rename('month')]).agg('count')\r\n",
    "print(by_date)"
   ],
   "outputs": [],
   "metadata": {}
  },
  {
   "cell_type": "code",
   "execution_count": null,
   "source": [
    "df = pd.DataFrame({'Date':pd.date_range(start='2019-03-17', end='2021-08-02')})\r\n",
    "df['Date'].groupby(df.Date.dt.to_period(\"M\")).agg('count').reset_index(name=\"Abundance\")"
   ],
   "outputs": [],
   "metadata": {}
  }
 ],
 "metadata": {
  "orig_nbformat": 4,
  "language_info": {
   "name": "python",
   "version": "3.9.7",
   "mimetype": "text/x-python",
   "codemirror_mode": {
    "name": "ipython",
    "version": 3
   },
   "pygments_lexer": "ipython3",
   "nbconvert_exporter": "python",
   "file_extension": ".py"
  },
  "kernelspec": {
   "name": "python3",
   "display_name": "Python 3.9.7 64-bit"
  },
  "interpreter": {
   "hash": "60f5decb5d5f75cee078769f31acc91db8399f71b0160f2efe6eadfe23786558"
  }
 },
 "nbformat": 4,
 "nbformat_minor": 2
}
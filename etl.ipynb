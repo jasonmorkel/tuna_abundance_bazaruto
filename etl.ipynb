{
 "cells": [
  {
   "cell_type": "code",
   "execution_count": 1,
   "source": [
    "import pandas as pd\r\n",
    "import requests\r\n",
    "import io\r\n",
    "import numpy as np"
   ],
   "outputs": [],
   "metadata": {}
  },
  {
   "cell_type": "code",
   "execution_count": 2,
   "source": [
    "#Downloading the file from GitHub account\r\n",
    "df = pd.read_csv('https://raw.githubusercontent.com/jasonmorkel/tuna_abundance_bazaruto/main/IOTC_2021_data.csv')\r\n",
    "print(df)"
   ],
   "outputs": [
    {
     "output_type": "stream",
     "name": "stdout",
     "text": [
      "       Year                         Species   SpGroup  Catch/Capture(t)\n",
      "0      1950  Narrow-barred Spanish mackerel  SEERFISH        603.475952\n",
      "1      1950                   Longtail tuna     TUNAS        517.271179\n",
      "2      1950  Narrow-barred Spanish mackerel  SEERFISH         96.524048\n",
      "3      1950                   Longtail tuna     TUNAS         82.728821\n",
      "4      1950  Narrow-barred Spanish mackerel  SEERFISH          0.074758\n",
      "...     ...                             ...       ...               ...\n",
      "46444  2020                  Striped marlin  BILLFISH          2.891670\n",
      "46445  2020           Southern bluefin tuna     TUNAS         17.129250\n",
      "46446  2020           Indo-Pacific sailfish  BILLFISH          0.576300\n",
      "46447  2020                       Swordfish  BILLFISH        166.029221\n",
      "46448  2020                  Yellowfin tuna     TUNAS        216.578644\n",
      "\n",
      "[46449 rows x 4 columns]\n"
     ]
    }
   ],
   "metadata": {}
  },
  {
   "cell_type": "code",
   "execution_count": 3,
   "source": [
    "occur = df.groupby('Species').size()\r\n",
    "print(occur)"
   ],
   "outputs": [
    {
     "output_type": "stream",
     "name": "stdout",
     "text": [
      "Species\n",
      "Albacore                          2299\n",
      "Bigeye tuna                       3047\n",
      "Black Marlin                      2627\n",
      "Blue Marlin                       2052\n",
      "Bullet tuna                       1663\n",
      "Frigate tuna                      3099\n",
      "Indo-Pacific king mackerel        2485\n",
      "Indo-Pacific sailfish             3227\n",
      "Kawakawa                          4007\n",
      "Longtail tuna                     2580\n",
      "Narrow-barred Spanish mackerel    3867\n",
      "Skipjack tuna                     4541\n",
      "Southern bluefin tuna              676\n",
      "Striped marlin                    1810\n",
      "Swordfish                         2663\n",
      "Yellowfin tuna                    5806\n",
      "dtype: int64\n"
     ]
    }
   ],
   "metadata": {}
  },
  {
   "cell_type": "code",
   "execution_count": 4,
   "source": [
    "#drop column\r\n",
    "df.drop('Species', axis='columns', inplace=True)\r\n",
    "\r\n",
    "#filter data\r\n",
    "df_tuna = df[df['SpGroup'] == 'TUNAS']\r\n",
    "\r\n",
    "#group data\r\n",
    "df_tuna_group = df_tuna.groupby('Year').sum()\r\n",
    "print(df_tuna_group)"
   ],
   "outputs": [
    {
     "output_type": "stream",
     "name": "stdout",
     "text": [
      "      Catch/Capture(t)\n",
      "Year                  \n",
      "1950      2.611869e+04\n",
      "1951      2.741775e+04\n",
      "1952      3.226164e+04\n",
      "1953      4.283813e+04\n",
      "1954      6.644001e+04\n",
      "...                ...\n",
      "2016      1.434918e+06\n",
      "2017      1.471457e+06\n",
      "2018      1.619223e+06\n",
      "2019      1.551920e+06\n",
      "2020      1.526227e+06\n",
      "\n",
      "[71 rows x 1 columns]\n"
     ]
    }
   ],
   "metadata": {}
  },
  {
   "cell_type": "code",
   "execution_count": 5,
   "source": [
    "#export to csv\r\n",
    "df_tuna_group.to_csv('iotc_tuna.csv')"
   ],
   "outputs": [],
   "metadata": {}
  }
 ],
 "metadata": {
  "orig_nbformat": 4,
  "language_info": {
   "name": "python",
   "version": "3.9.7",
   "mimetype": "text/x-python",
   "codemirror_mode": {
    "name": "ipython",
    "version": 3
   },
   "pygments_lexer": "ipython3",
   "nbconvert_exporter": "python",
   "file_extension": ".py"
  },
  "kernelspec": {
   "name": "python3",
   "display_name": "Python 3.9.7 64-bit"
  },
  "interpreter": {
   "hash": "60f5decb5d5f75cee078769f31acc91db8399f71b0160f2efe6eadfe23786558"
  }
 },
 "nbformat": 4,
 "nbformat_minor": 2
}
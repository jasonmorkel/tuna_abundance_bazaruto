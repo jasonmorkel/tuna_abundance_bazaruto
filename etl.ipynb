{
 "cells": [
  {
   "cell_type": "code",
   "execution_count": 5,
   "source": [
    "import pandas as pd\r\n",
    "df = pd.read_excel(r'C:\\Users\\jackr\\OneDrive - University of Southampton\\Documents\\Marine bio\\BCSS\\GitHub\\tuna_abundance_bazaruto\\tuna_abundance.xlsx')\r\n",
    "print (df)\r\n",
    "\r\n",
    "occur = df.groupby('Common Name').size()\r\n",
    "print(occur)\r\n",
    "\r\n",
    "by_date = df['Date'].groupby([df.Date.dt.year.rename('year'), df.Date.dt.month.rename('month')]).agg('count')\r\n",
    "print(by_date)\r\n",
    "\r\n",
    "\r\n",
    "\r\n",
    "\r\n",
    "\r\n",
    "\r\n",
    "\r\n",
    "\r\n",
    "\r\n",
    "\r\n"
   ],
   "outputs": [
    {
     "output_type": "stream",
     "name": "stdout",
     "text": [
      "          Date     Common Name  SST (ºC) Boat  SST YSI  Sal. YSI  pH YSI  \\\n",
      "0   2021-08-02   Skipjack Tuna           24.7     24.3     35.81    8.09   \n",
      "1   2021-08-02          Bonito           24.3     23.9     35.80    8.18   \n",
      "2   2021-04-03          Bonito           30.6      NaN       NaN     NaN   \n",
      "3   2021-04-02  Yellowfin Tuna           28.9      NaN       NaN     NaN   \n",
      "4   2021-04-02  Yellowfin Tuna           29.4      NaN       NaN     NaN   \n",
      "..         ...             ...            ...      ...       ...     ...   \n",
      "266 2019-08-01          Bonito           21.1      NaN       NaN     NaN   \n",
      "267 2019-08-01  Yellowfin Tuna           22.2      NaN       NaN     NaN   \n",
      "268 2019-07-05          Bonito           22.7      NaN       NaN     NaN   \n",
      "269 2019-07-05          Bonito           22.7      NaN       NaN     NaN   \n",
      "270 2019-03-17   Skipjack Tuna           23.9      NaN       NaN     NaN   \n",
      "\n",
      "     DO YSI Depth (m)              Area  Wind speed  Air Temp (°C)  \\\n",
      "0      6.10      92.5    North Bazaruto    5.000000      21.355556   \n",
      "1      5.56      77.3    North Bazaruto    5.000000      21.000000   \n",
      "2       NaN        58  Marlin Pinnacles    5.000000      26.000000   \n",
      "3       NaN      84.6  Marlin Pinnacles    4.750000      27.000000   \n",
      "4       NaN      75.6  Marlin Pinnacles    4.500000      27.000000   \n",
      "..      ...       ...               ...         ...            ...   \n",
      "266     NaN       NaN     San Sebastian    6.000000      24.000000   \n",
      "267     NaN       NaN     San Sebastian    6.000000      24.000000   \n",
      "268     NaN        43  Marlin Pinnacles    3.666667      23.000000   \n",
      "269     NaN        43  Marlin Pinnacles    3.666667      23.000000   \n",
      "270     NaN       NaN            9-Mile    9.000000      26.333333   \n",
      "\n",
      "     Cloud Coverage (%)  Tidal Strenght  \n",
      "0             23.200000        2.422670  \n",
      "1             49.333333        2.392308  \n",
      "2              0.000000        1.538462  \n",
      "3             37.000000        3.353367  \n",
      "4             43.000000        2.904489  \n",
      "..                  ...             ...  \n",
      "266           78.000000        0.787500  \n",
      "267           78.000000        0.787500  \n",
      "268           36.666667        1.770000  \n",
      "269           36.666667        1.770000  \n",
      "270          100.000000        2.252475  \n",
      "\n",
      "[271 rows x 13 columns]\n",
      "Common Name\n",
      "Bonito            111\n",
      "Skipjack Tuna     102\n",
      "Yellowfin Tuna     58\n",
      "dtype: int64\n",
      "month\n",
      "1     21\n",
      "2     11\n",
      "3     67\n",
      "4     39\n",
      "5     29\n",
      "7      2\n",
      "8     28\n",
      "9      2\n",
      "10    16\n",
      "11    29\n",
      "12    27\n",
      "Name: Date, dtype: int64\n"
     ]
    }
   ],
   "metadata": {}
  },
  {
   "cell_type": "code",
   "execution_count": 6,
   "source": [
    "df = pd.DataFrame({'Date':pd.date_range(start='2019-03-17', end='2021-08-02')})\r\n",
    "df['Date'].groupby(df.Date.dt.to_period(\"M\")).agg('count').reset_index(name=\"Abundance\")\r\n",
    "\r\n"
   ],
   "outputs": [
    {
     "output_type": "execute_result",
     "data": {
      "text/plain": [
       "Date\n",
       "2019-03    15\n",
       "2019-04    30\n",
       "2019-05    31\n",
       "2019-06    30\n",
       "2019-07    31\n",
       "2019-08    31\n",
       "2019-09    30\n",
       "2019-10    31\n",
       "2019-11    30\n",
       "2019-12    31\n",
       "2020-01    31\n",
       "2020-02    29\n",
       "2020-03    31\n",
       "2020-04    30\n",
       "2020-05    31\n",
       "2020-06    30\n",
       "2020-07    31\n",
       "2020-08    31\n",
       "2020-09    30\n",
       "2020-10    31\n",
       "2020-11    30\n",
       "2020-12    31\n",
       "2021-01    31\n",
       "2021-02    28\n",
       "2021-03    31\n",
       "2021-04    30\n",
       "2021-05    31\n",
       "2021-06    30\n",
       "2021-07    31\n",
       "2021-08     2\n",
       "Freq: M, Name: Date, dtype: int64"
      ]
     },
     "metadata": {},
     "execution_count": 6
    }
   ],
   "metadata": {}
  },
  {
   "cell_type": "code",
   "execution_count": null,
   "source": [],
   "outputs": [],
   "metadata": {}
  }
 ],
 "metadata": {
  "orig_nbformat": 4,
  "language_info": {
   "name": "python",
   "version": "3.9.7",
   "mimetype": "text/x-python",
   "codemirror_mode": {
    "name": "ipython",
    "version": 3
   },
   "pygments_lexer": "ipython3",
   "nbconvert_exporter": "python",
   "file_extension": ".py"
  },
  "kernelspec": {
   "name": "python3",
   "display_name": "Python 3.9.7 64-bit (windows store)"
  },
  "interpreter": {
   "hash": "fc65848199ab5d3afbf5110e7a5e0cec1968acdf0dd6acfe3c6bd85b656f1267"
  }
 },
 "nbformat": 4,
 "nbformat_minor": 2
}
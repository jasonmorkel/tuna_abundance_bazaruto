{
 "cells": [
  {
   "cell_type": "code",
   "execution_count": null,
   "source": [
    "import pandas as pd\r\n",
    "import requests\r\n",
    "import io\r\n",
    "import numpy as np"
   ],
   "outputs": [],
   "metadata": {}
  },
  {
   "cell_type": "code",
   "execution_count": null,
   "source": [
    "#Downloading the file from GitHub account\r\n",
    "df = pd.read_csv('https://raw.githubusercontent.com/jasonmorkel/tuna_abundance_bazaruto/main/IOTC_2021_data.csv')\r\n",
    "print(df)"
   ],
   "outputs": [],
   "metadata": {}
  },
  {
   "cell_type": "code",
   "execution_count": null,
   "source": [
    "occur = df.groupby('Species').size()\r\n",
    "print(occur)"
   ],
   "outputs": [],
   "metadata": {}
  },
  {
   "cell_type": "code",
   "execution_count": null,
   "source": [
    "#drop column\r\n",
    "df.drop('Species', axis='columns', inplace=True)\r\n",
    "\r\n",
    "#filter data\r\n",
    "df_tuna = df[df['SpGroup'] == 'TUNAS']\r\n",
    "\r\n",
    "#group data\r\n",
    "df_tuna_group = df_tuna.groupby('Year').sum()\r\n",
    "print(df_tuna_group)"
   ],
   "outputs": [],
   "metadata": {}
  },
  {
   "cell_type": "code",
   "execution_count": null,
   "source": [
    "#export to csv\r\n",
    "df_tuna_group.to_csv('iotc_tuna.csv')"
   ],
   "outputs": [],
   "metadata": {}
  }
 ],
 "metadata": {
  "orig_nbformat": 4,
  "language_info": {
   "name": "python",
   "version": "3.9.7",
   "mimetype": "text/x-python",
   "codemirror_mode": {
    "name": "ipython",
    "version": 3
   },
   "pygments_lexer": "ipython3",
   "nbconvert_exporter": "python",
   "file_extension": ".py"
  },
  "kernelspec": {
   "name": "python3",
   "display_name": "Python 3.9.7 64-bit"
  },
  "interpreter": {
   "hash": "60f5decb5d5f75cee078769f31acc91db8399f71b0160f2efe6eadfe23786558"
  }
 },
 "nbformat": 4,
 "nbformat_minor": 2
}